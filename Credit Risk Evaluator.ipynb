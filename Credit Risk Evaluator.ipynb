{
 "cells": [
  {
   "cell_type": "code",
   "execution_count": 54,
   "id": "ea5259d2",
   "metadata": {},
   "outputs": [],
   "source": [
    "import pandas as pd\n",
    "from sklearn.model_selection import train_test_split, GridSearchCV\n",
    "from sklearn.preprocessing import StandardScaler, MinMaxScaler, LabelEncoder\n",
    "import numpy as np\n",
    "from sklearn.ensemble import RandomForestClassifier\n",
    "from sklearn.linear_model import LogisticRegression\n",
    "import matplotlib.pyplot as plt\n"
   ]
  },
  {
   "cell_type": "code",
   "execution_count": 56,
   "id": "aba12d8e",
   "metadata": {},
   "outputs": [],
   "source": [
    "train_df = pd.read_csv('resources/2019loans.csv')"
   ]
  },
  {
   "cell_type": "code",
   "execution_count": 57,
   "id": "4cf42d89",
   "metadata": {},
   "outputs": [],
   "source": [
    "test_df = pd.read_csv(\"resources/2020Q1loans.csv\")"
   ]
  },
  {
   "cell_type": "code",
   "execution_count": 58,
   "id": "87c04e0f",
   "metadata": {},
   "outputs": [],
   "source": [
    "#train data process"
   ]
  },
  {
   "cell_type": "code",
   "execution_count": 59,
   "id": "531240d1",
   "metadata": {},
   "outputs": [
    {
     "data": {
      "text/html": [
       "<div>\n",
       "<style scoped>\n",
       "    .dataframe tbody tr th:only-of-type {\n",
       "        vertical-align: middle;\n",
       "    }\n",
       "\n",
       "    .dataframe tbody tr th {\n",
       "        vertical-align: top;\n",
       "    }\n",
       "\n",
       "    .dataframe thead th {\n",
       "        text-align: right;\n",
       "    }\n",
       "</style>\n",
       "<table border=\"1\" class=\"dataframe\">\n",
       "  <thead>\n",
       "    <tr style=\"text-align: right;\">\n",
       "      <th></th>\n",
       "      <th>Unnamed: 0</th>\n",
       "      <th>index</th>\n",
       "      <th>loan_amnt</th>\n",
       "      <th>int_rate</th>\n",
       "      <th>installment</th>\n",
       "      <th>home_ownership</th>\n",
       "      <th>annual_inc</th>\n",
       "      <th>verification_status</th>\n",
       "      <th>loan_status</th>\n",
       "      <th>pymnt_plan</th>\n",
       "      <th>...</th>\n",
       "      <th>pct_tl_nvr_dlq</th>\n",
       "      <th>percent_bc_gt_75</th>\n",
       "      <th>pub_rec_bankruptcies</th>\n",
       "      <th>tax_liens</th>\n",
       "      <th>tot_hi_cred_lim</th>\n",
       "      <th>total_bal_ex_mort</th>\n",
       "      <th>total_bc_limit</th>\n",
       "      <th>total_il_high_credit_limit</th>\n",
       "      <th>hardship_flag</th>\n",
       "      <th>debt_settlement_flag</th>\n",
       "    </tr>\n",
       "  </thead>\n",
       "  <tbody>\n",
       "    <tr>\n",
       "      <th>0</th>\n",
       "      <td>57107</td>\n",
       "      <td>57107</td>\n",
       "      <td>13375.0</td>\n",
       "      <td>0.1797</td>\n",
       "      <td>483.34</td>\n",
       "      <td>MORTGAGE</td>\n",
       "      <td>223000.0</td>\n",
       "      <td>Not Verified</td>\n",
       "      <td>low_risk</td>\n",
       "      <td>n</td>\n",
       "      <td>...</td>\n",
       "      <td>100.0</td>\n",
       "      <td>50.0</td>\n",
       "      <td>0.0</td>\n",
       "      <td>0.0</td>\n",
       "      <td>577150.0</td>\n",
       "      <td>122018.0</td>\n",
       "      <td>32000.0</td>\n",
       "      <td>170200.0</td>\n",
       "      <td>N</td>\n",
       "      <td>N</td>\n",
       "    </tr>\n",
       "    <tr>\n",
       "      <th>1</th>\n",
       "      <td>141451</td>\n",
       "      <td>141451</td>\n",
       "      <td>21000.0</td>\n",
       "      <td>0.1308</td>\n",
       "      <td>478.68</td>\n",
       "      <td>MORTGAGE</td>\n",
       "      <td>123000.0</td>\n",
       "      <td>Source Verified</td>\n",
       "      <td>low_risk</td>\n",
       "      <td>n</td>\n",
       "      <td>...</td>\n",
       "      <td>85.0</td>\n",
       "      <td>33.3</td>\n",
       "      <td>0.0</td>\n",
       "      <td>0.0</td>\n",
       "      <td>132750.0</td>\n",
       "      <td>27896.0</td>\n",
       "      <td>15900.0</td>\n",
       "      <td>35398.0</td>\n",
       "      <td>N</td>\n",
       "      <td>N</td>\n",
       "    </tr>\n",
       "    <tr>\n",
       "      <th>2</th>\n",
       "      <td>321143</td>\n",
       "      <td>321143</td>\n",
       "      <td>20000.0</td>\n",
       "      <td>0.1240</td>\n",
       "      <td>448.95</td>\n",
       "      <td>MORTGAGE</td>\n",
       "      <td>197000.0</td>\n",
       "      <td>Source Verified</td>\n",
       "      <td>low_risk</td>\n",
       "      <td>n</td>\n",
       "      <td>...</td>\n",
       "      <td>85.7</td>\n",
       "      <td>33.3</td>\n",
       "      <td>0.0</td>\n",
       "      <td>0.0</td>\n",
       "      <td>628160.0</td>\n",
       "      <td>114043.0</td>\n",
       "      <td>22600.0</td>\n",
       "      <td>90340.0</td>\n",
       "      <td>N</td>\n",
       "      <td>N</td>\n",
       "    </tr>\n",
       "    <tr>\n",
       "      <th>3</th>\n",
       "      <td>11778</td>\n",
       "      <td>11778</td>\n",
       "      <td>3000.0</td>\n",
       "      <td>0.1240</td>\n",
       "      <td>100.22</td>\n",
       "      <td>RENT</td>\n",
       "      <td>45000.0</td>\n",
       "      <td>Not Verified</td>\n",
       "      <td>low_risk</td>\n",
       "      <td>n</td>\n",
       "      <td>...</td>\n",
       "      <td>100.0</td>\n",
       "      <td>16.7</td>\n",
       "      <td>1.0</td>\n",
       "      <td>0.0</td>\n",
       "      <td>42006.0</td>\n",
       "      <td>20761.0</td>\n",
       "      <td>19900.0</td>\n",
       "      <td>15406.0</td>\n",
       "      <td>N</td>\n",
       "      <td>N</td>\n",
       "    </tr>\n",
       "    <tr>\n",
       "      <th>4</th>\n",
       "      <td>169382</td>\n",
       "      <td>169382</td>\n",
       "      <td>30000.0</td>\n",
       "      <td>0.1612</td>\n",
       "      <td>1056.49</td>\n",
       "      <td>MORTGAGE</td>\n",
       "      <td>133000.0</td>\n",
       "      <td>Source Verified</td>\n",
       "      <td>low_risk</td>\n",
       "      <td>n</td>\n",
       "      <td>...</td>\n",
       "      <td>100.0</td>\n",
       "      <td>66.7</td>\n",
       "      <td>0.0</td>\n",
       "      <td>0.0</td>\n",
       "      <td>283248.0</td>\n",
       "      <td>109056.0</td>\n",
       "      <td>79500.0</td>\n",
       "      <td>58778.0</td>\n",
       "      <td>N</td>\n",
       "      <td>N</td>\n",
       "    </tr>\n",
       "  </tbody>\n",
       "</table>\n",
       "<p>5 rows × 86 columns</p>\n",
       "</div>"
      ],
      "text/plain": [
       "   Unnamed: 0   index  loan_amnt  int_rate  installment home_ownership  \\\n",
       "0       57107   57107    13375.0    0.1797       483.34       MORTGAGE   \n",
       "1      141451  141451    21000.0    0.1308       478.68       MORTGAGE   \n",
       "2      321143  321143    20000.0    0.1240       448.95       MORTGAGE   \n",
       "3       11778   11778     3000.0    0.1240       100.22           RENT   \n",
       "4      169382  169382    30000.0    0.1612      1056.49       MORTGAGE   \n",
       "\n",
       "   annual_inc verification_status loan_status pymnt_plan  ...  pct_tl_nvr_dlq  \\\n",
       "0    223000.0        Not Verified    low_risk          n  ...           100.0   \n",
       "1    123000.0     Source Verified    low_risk          n  ...            85.0   \n",
       "2    197000.0     Source Verified    low_risk          n  ...            85.7   \n",
       "3     45000.0        Not Verified    low_risk          n  ...           100.0   \n",
       "4    133000.0     Source Verified    low_risk          n  ...           100.0   \n",
       "\n",
       "   percent_bc_gt_75  pub_rec_bankruptcies  tax_liens  tot_hi_cred_lim  \\\n",
       "0              50.0                   0.0        0.0         577150.0   \n",
       "1              33.3                   0.0        0.0         132750.0   \n",
       "2              33.3                   0.0        0.0         628160.0   \n",
       "3              16.7                   1.0        0.0          42006.0   \n",
       "4              66.7                   0.0        0.0         283248.0   \n",
       "\n",
       "   total_bal_ex_mort  total_bc_limit total_il_high_credit_limit  \\\n",
       "0           122018.0         32000.0                   170200.0   \n",
       "1            27896.0         15900.0                    35398.0   \n",
       "2           114043.0         22600.0                    90340.0   \n",
       "3            20761.0         19900.0                    15406.0   \n",
       "4           109056.0         79500.0                    58778.0   \n",
       "\n",
       "   hardship_flag  debt_settlement_flag  \n",
       "0              N                     N  \n",
       "1              N                     N  \n",
       "2              N                     N  \n",
       "3              N                     N  \n",
       "4              N                     N  \n",
       "\n",
       "[5 rows x 86 columns]"
      ]
     },
     "execution_count": 59,
     "metadata": {},
     "output_type": "execute_result"
    }
   ],
   "source": [
    "train_df.head()"
   ]
  },
  {
   "cell_type": "code",
   "execution_count": 60,
   "id": "4211bbd4",
   "metadata": {},
   "outputs": [
    {
     "data": {
      "text/plain": [
       "(12180, 86)"
      ]
     },
     "execution_count": 60,
     "metadata": {},
     "output_type": "execute_result"
    }
   ],
   "source": [
    "train_df.shape"
   ]
  },
  {
   "cell_type": "code",
   "execution_count": 61,
   "id": "abb65c91",
   "metadata": {},
   "outputs": [
    {
     "data": {
      "text/plain": [
       "12180"
      ]
     },
     "execution_count": 61,
     "metadata": {},
     "output_type": "execute_result"
    }
   ],
   "source": [
    "len(train_df)"
   ]
  },
  {
   "cell_type": "markdown",
   "id": "b001010f",
   "metadata": {},
   "source": [
    "Cleanning data"
   ]
  },
  {
   "cell_type": "code",
   "execution_count": 62,
   "id": "0cd5378a",
   "metadata": {},
   "outputs": [
    {
     "data": {
      "text/plain": [
       "Unnamed: 0                    0\n",
       "index                         0\n",
       "loan_amnt                     0\n",
       "int_rate                      0\n",
       "installment                   0\n",
       "home_ownership                0\n",
       "annual_inc                    0\n",
       "verification_status           0\n",
       "loan_status                   0\n",
       "pymnt_plan                    0\n",
       "dti                           0\n",
       "delinq_2yrs                   0\n",
       "inq_last_6mths                0\n",
       "open_acc                      0\n",
       "pub_rec                       0\n",
       "revol_bal                     0\n",
       "total_acc                     0\n",
       "initial_list_status           0\n",
       "out_prncp                     0\n",
       "out_prncp_inv                 0\n",
       "total_pymnt                   0\n",
       "total_pymnt_inv               0\n",
       "total_rec_prncp               0\n",
       "total_rec_int                 0\n",
       "total_rec_late_fee            0\n",
       "recoveries                    0\n",
       "collection_recovery_fee       0\n",
       "last_pymnt_amnt               0\n",
       "collections_12_mths_ex_med    0\n",
       "policy_code                   0\n",
       "                             ..\n",
       "mo_sin_old_rev_tl_op          0\n",
       "mo_sin_rcnt_rev_tl_op         0\n",
       "mo_sin_rcnt_tl                0\n",
       "mort_acc                      0\n",
       "mths_since_recent_bc          0\n",
       "mths_since_recent_inq         0\n",
       "num_accts_ever_120_pd         0\n",
       "num_actv_bc_tl                0\n",
       "num_actv_rev_tl               0\n",
       "num_bc_sats                   0\n",
       "num_bc_tl                     0\n",
       "num_il_tl                     0\n",
       "num_op_rev_tl                 0\n",
       "num_rev_accts                 0\n",
       "num_rev_tl_bal_gt_0           0\n",
       "num_sats                      0\n",
       "num_tl_120dpd_2m              0\n",
       "num_tl_30dpd                  0\n",
       "num_tl_90g_dpd_24m            0\n",
       "num_tl_op_past_12m            0\n",
       "pct_tl_nvr_dlq                0\n",
       "percent_bc_gt_75              0\n",
       "pub_rec_bankruptcies          0\n",
       "tax_liens                     0\n",
       "tot_hi_cred_lim               0\n",
       "total_bal_ex_mort             0\n",
       "total_bc_limit                0\n",
       "total_il_high_credit_limit    0\n",
       "hardship_flag                 0\n",
       "debt_settlement_flag          0\n",
       "Length: 86, dtype: int64"
      ]
     },
     "execution_count": 62,
     "metadata": {},
     "output_type": "execute_result"
    }
   ],
   "source": [
    "pd.options.display.min_rows = 90\n",
    "train_df.isnull().sum()"
   ]
  },
  {
   "cell_type": "code",
   "execution_count": 63,
   "id": "373a2d7e",
   "metadata": {},
   "outputs": [],
   "source": [
    "# Convert categorical data to numeric and separate target feature for training data\n",
    "X = train_df.drop('loan_status', axis=1)"
   ]
  },
  {
   "cell_type": "code",
   "execution_count": 64,
   "id": "35868b73",
   "metadata": {},
   "outputs": [
    {
     "data": {
      "text/html": [
       "<div>\n",
       "<style scoped>\n",
       "    .dataframe tbody tr th:only-of-type {\n",
       "        vertical-align: middle;\n",
       "    }\n",
       "\n",
       "    .dataframe tbody tr th {\n",
       "        vertical-align: top;\n",
       "    }\n",
       "\n",
       "    .dataframe thead th {\n",
       "        text-align: right;\n",
       "    }\n",
       "</style>\n",
       "<table border=\"1\" class=\"dataframe\">\n",
       "  <thead>\n",
       "    <tr style=\"text-align: right;\">\n",
       "      <th></th>\n",
       "      <th>Unnamed: 0</th>\n",
       "      <th>index</th>\n",
       "      <th>loan_amnt</th>\n",
       "      <th>int_rate</th>\n",
       "      <th>installment</th>\n",
       "      <th>home_ownership</th>\n",
       "      <th>annual_inc</th>\n",
       "      <th>verification_status</th>\n",
       "      <th>pymnt_plan</th>\n",
       "      <th>dti</th>\n",
       "      <th>...</th>\n",
       "      <th>pct_tl_nvr_dlq</th>\n",
       "      <th>percent_bc_gt_75</th>\n",
       "      <th>pub_rec_bankruptcies</th>\n",
       "      <th>tax_liens</th>\n",
       "      <th>tot_hi_cred_lim</th>\n",
       "      <th>total_bal_ex_mort</th>\n",
       "      <th>total_bc_limit</th>\n",
       "      <th>total_il_high_credit_limit</th>\n",
       "      <th>hardship_flag</th>\n",
       "      <th>debt_settlement_flag</th>\n",
       "    </tr>\n",
       "  </thead>\n",
       "  <tbody>\n",
       "    <tr>\n",
       "      <th>0</th>\n",
       "      <td>57107</td>\n",
       "      <td>57107</td>\n",
       "      <td>13375.0</td>\n",
       "      <td>0.1797</td>\n",
       "      <td>483.34</td>\n",
       "      <td>MORTGAGE</td>\n",
       "      <td>223000.0</td>\n",
       "      <td>Not Verified</td>\n",
       "      <td>n</td>\n",
       "      <td>29.99</td>\n",
       "      <td>...</td>\n",
       "      <td>100.0</td>\n",
       "      <td>50.0</td>\n",
       "      <td>0.0</td>\n",
       "      <td>0.0</td>\n",
       "      <td>577150.0</td>\n",
       "      <td>122018.0</td>\n",
       "      <td>32000.0</td>\n",
       "      <td>170200.0</td>\n",
       "      <td>N</td>\n",
       "      <td>N</td>\n",
       "    </tr>\n",
       "    <tr>\n",
       "      <th>1</th>\n",
       "      <td>141451</td>\n",
       "      <td>141451</td>\n",
       "      <td>21000.0</td>\n",
       "      <td>0.1308</td>\n",
       "      <td>478.68</td>\n",
       "      <td>MORTGAGE</td>\n",
       "      <td>123000.0</td>\n",
       "      <td>Source Verified</td>\n",
       "      <td>n</td>\n",
       "      <td>11.26</td>\n",
       "      <td>...</td>\n",
       "      <td>85.0</td>\n",
       "      <td>33.3</td>\n",
       "      <td>0.0</td>\n",
       "      <td>0.0</td>\n",
       "      <td>132750.0</td>\n",
       "      <td>27896.0</td>\n",
       "      <td>15900.0</td>\n",
       "      <td>35398.0</td>\n",
       "      <td>N</td>\n",
       "      <td>N</td>\n",
       "    </tr>\n",
       "    <tr>\n",
       "      <th>2</th>\n",
       "      <td>321143</td>\n",
       "      <td>321143</td>\n",
       "      <td>20000.0</td>\n",
       "      <td>0.1240</td>\n",
       "      <td>448.95</td>\n",
       "      <td>MORTGAGE</td>\n",
       "      <td>197000.0</td>\n",
       "      <td>Source Verified</td>\n",
       "      <td>n</td>\n",
       "      <td>11.28</td>\n",
       "      <td>...</td>\n",
       "      <td>85.7</td>\n",
       "      <td>33.3</td>\n",
       "      <td>0.0</td>\n",
       "      <td>0.0</td>\n",
       "      <td>628160.0</td>\n",
       "      <td>114043.0</td>\n",
       "      <td>22600.0</td>\n",
       "      <td>90340.0</td>\n",
       "      <td>N</td>\n",
       "      <td>N</td>\n",
       "    </tr>\n",
       "    <tr>\n",
       "      <th>3</th>\n",
       "      <td>11778</td>\n",
       "      <td>11778</td>\n",
       "      <td>3000.0</td>\n",
       "      <td>0.1240</td>\n",
       "      <td>100.22</td>\n",
       "      <td>RENT</td>\n",
       "      <td>45000.0</td>\n",
       "      <td>Not Verified</td>\n",
       "      <td>n</td>\n",
       "      <td>18.08</td>\n",
       "      <td>...</td>\n",
       "      <td>100.0</td>\n",
       "      <td>16.7</td>\n",
       "      <td>1.0</td>\n",
       "      <td>0.0</td>\n",
       "      <td>42006.0</td>\n",
       "      <td>20761.0</td>\n",
       "      <td>19900.0</td>\n",
       "      <td>15406.0</td>\n",
       "      <td>N</td>\n",
       "      <td>N</td>\n",
       "    </tr>\n",
       "    <tr>\n",
       "      <th>4</th>\n",
       "      <td>169382</td>\n",
       "      <td>169382</td>\n",
       "      <td>30000.0</td>\n",
       "      <td>0.1612</td>\n",
       "      <td>1056.49</td>\n",
       "      <td>MORTGAGE</td>\n",
       "      <td>133000.0</td>\n",
       "      <td>Source Verified</td>\n",
       "      <td>n</td>\n",
       "      <td>27.77</td>\n",
       "      <td>...</td>\n",
       "      <td>100.0</td>\n",
       "      <td>66.7</td>\n",
       "      <td>0.0</td>\n",
       "      <td>0.0</td>\n",
       "      <td>283248.0</td>\n",
       "      <td>109056.0</td>\n",
       "      <td>79500.0</td>\n",
       "      <td>58778.0</td>\n",
       "      <td>N</td>\n",
       "      <td>N</td>\n",
       "    </tr>\n",
       "  </tbody>\n",
       "</table>\n",
       "<p>5 rows × 85 columns</p>\n",
       "</div>"
      ],
      "text/plain": [
       "   Unnamed: 0   index  loan_amnt  int_rate  installment home_ownership  \\\n",
       "0       57107   57107    13375.0    0.1797       483.34       MORTGAGE   \n",
       "1      141451  141451    21000.0    0.1308       478.68       MORTGAGE   \n",
       "2      321143  321143    20000.0    0.1240       448.95       MORTGAGE   \n",
       "3       11778   11778     3000.0    0.1240       100.22           RENT   \n",
       "4      169382  169382    30000.0    0.1612      1056.49       MORTGAGE   \n",
       "\n",
       "   annual_inc verification_status pymnt_plan    dti  ...  pct_tl_nvr_dlq  \\\n",
       "0    223000.0        Not Verified          n  29.99  ...           100.0   \n",
       "1    123000.0     Source Verified          n  11.26  ...            85.0   \n",
       "2    197000.0     Source Verified          n  11.28  ...            85.7   \n",
       "3     45000.0        Not Verified          n  18.08  ...           100.0   \n",
       "4    133000.0     Source Verified          n  27.77  ...           100.0   \n",
       "\n",
       "   percent_bc_gt_75  pub_rec_bankruptcies  tax_liens  tot_hi_cred_lim  \\\n",
       "0              50.0                   0.0        0.0         577150.0   \n",
       "1              33.3                   0.0        0.0         132750.0   \n",
       "2              33.3                   0.0        0.0         628160.0   \n",
       "3              16.7                   1.0        0.0          42006.0   \n",
       "4              66.7                   0.0        0.0         283248.0   \n",
       "\n",
       "   total_bal_ex_mort total_bc_limit  total_il_high_credit_limit  \\\n",
       "0           122018.0        32000.0                    170200.0   \n",
       "1            27896.0        15900.0                     35398.0   \n",
       "2           114043.0        22600.0                     90340.0   \n",
       "3            20761.0        19900.0                     15406.0   \n",
       "4           109056.0        79500.0                     58778.0   \n",
       "\n",
       "   hardship_flag  debt_settlement_flag  \n",
       "0              N                     N  \n",
       "1              N                     N  \n",
       "2              N                     N  \n",
       "3              N                     N  \n",
       "4              N                     N  \n",
       "\n",
       "[5 rows x 85 columns]"
      ]
     },
     "execution_count": 64,
     "metadata": {},
     "output_type": "execute_result"
    }
   ],
   "source": [
    "X.head(5)"
   ]
  },
  {
   "cell_type": "code",
   "execution_count": 65,
   "id": "99b6fff7",
   "metadata": {},
   "outputs": [
    {
     "data": {
      "text/html": [
       "<div>\n",
       "<style scoped>\n",
       "    .dataframe tbody tr th:only-of-type {\n",
       "        vertical-align: middle;\n",
       "    }\n",
       "\n",
       "    .dataframe tbody tr th {\n",
       "        vertical-align: top;\n",
       "    }\n",
       "\n",
       "    .dataframe thead th {\n",
       "        text-align: right;\n",
       "    }\n",
       "</style>\n",
       "<table border=\"1\" class=\"dataframe\">\n",
       "  <thead>\n",
       "    <tr style=\"text-align: right;\">\n",
       "      <th></th>\n",
       "      <th>Unnamed: 0</th>\n",
       "      <th>index</th>\n",
       "      <th>loan_amnt</th>\n",
       "      <th>int_rate</th>\n",
       "      <th>installment</th>\n",
       "      <th>annual_inc</th>\n",
       "      <th>dti</th>\n",
       "      <th>delinq_2yrs</th>\n",
       "      <th>inq_last_6mths</th>\n",
       "      <th>open_acc</th>\n",
       "      <th>...</th>\n",
       "      <th>verification_status_Verified</th>\n",
       "      <th>pymnt_plan_n</th>\n",
       "      <th>initial_list_status_f</th>\n",
       "      <th>initial_list_status_w</th>\n",
       "      <th>application_type_Individual</th>\n",
       "      <th>application_type_Joint App</th>\n",
       "      <th>hardship_flag_N</th>\n",
       "      <th>hardship_flag_Y</th>\n",
       "      <th>debt_settlement_flag_N</th>\n",
       "      <th>debt_settlement_flag_Y</th>\n",
       "    </tr>\n",
       "  </thead>\n",
       "  <tbody>\n",
       "    <tr>\n",
       "      <th>0</th>\n",
       "      <td>57107</td>\n",
       "      <td>57107</td>\n",
       "      <td>13375.0</td>\n",
       "      <td>0.1797</td>\n",
       "      <td>483.34</td>\n",
       "      <td>223000.0</td>\n",
       "      <td>29.99</td>\n",
       "      <td>0.0</td>\n",
       "      <td>0.0</td>\n",
       "      <td>15.0</td>\n",
       "      <td>...</td>\n",
       "      <td>0</td>\n",
       "      <td>1</td>\n",
       "      <td>0</td>\n",
       "      <td>1</td>\n",
       "      <td>1</td>\n",
       "      <td>0</td>\n",
       "      <td>1</td>\n",
       "      <td>0</td>\n",
       "      <td>1</td>\n",
       "      <td>0</td>\n",
       "    </tr>\n",
       "    <tr>\n",
       "      <th>1</th>\n",
       "      <td>141451</td>\n",
       "      <td>141451</td>\n",
       "      <td>21000.0</td>\n",
       "      <td>0.1308</td>\n",
       "      <td>478.68</td>\n",
       "      <td>123000.0</td>\n",
       "      <td>11.26</td>\n",
       "      <td>2.0</td>\n",
       "      <td>0.0</td>\n",
       "      <td>16.0</td>\n",
       "      <td>...</td>\n",
       "      <td>0</td>\n",
       "      <td>1</td>\n",
       "      <td>0</td>\n",
       "      <td>1</td>\n",
       "      <td>1</td>\n",
       "      <td>0</td>\n",
       "      <td>1</td>\n",
       "      <td>0</td>\n",
       "      <td>1</td>\n",
       "      <td>0</td>\n",
       "    </tr>\n",
       "    <tr>\n",
       "      <th>2</th>\n",
       "      <td>321143</td>\n",
       "      <td>321143</td>\n",
       "      <td>20000.0</td>\n",
       "      <td>0.1240</td>\n",
       "      <td>448.95</td>\n",
       "      <td>197000.0</td>\n",
       "      <td>11.28</td>\n",
       "      <td>0.0</td>\n",
       "      <td>0.0</td>\n",
       "      <td>12.0</td>\n",
       "      <td>...</td>\n",
       "      <td>0</td>\n",
       "      <td>1</td>\n",
       "      <td>0</td>\n",
       "      <td>1</td>\n",
       "      <td>1</td>\n",
       "      <td>0</td>\n",
       "      <td>1</td>\n",
       "      <td>0</td>\n",
       "      <td>1</td>\n",
       "      <td>0</td>\n",
       "    </tr>\n",
       "    <tr>\n",
       "      <th>3</th>\n",
       "      <td>11778</td>\n",
       "      <td>11778</td>\n",
       "      <td>3000.0</td>\n",
       "      <td>0.1240</td>\n",
       "      <td>100.22</td>\n",
       "      <td>45000.0</td>\n",
       "      <td>18.08</td>\n",
       "      <td>0.0</td>\n",
       "      <td>0.0</td>\n",
       "      <td>12.0</td>\n",
       "      <td>...</td>\n",
       "      <td>0</td>\n",
       "      <td>1</td>\n",
       "      <td>0</td>\n",
       "      <td>1</td>\n",
       "      <td>1</td>\n",
       "      <td>0</td>\n",
       "      <td>1</td>\n",
       "      <td>0</td>\n",
       "      <td>1</td>\n",
       "      <td>0</td>\n",
       "    </tr>\n",
       "    <tr>\n",
       "      <th>4</th>\n",
       "      <td>169382</td>\n",
       "      <td>169382</td>\n",
       "      <td>30000.0</td>\n",
       "      <td>0.1612</td>\n",
       "      <td>1056.49</td>\n",
       "      <td>133000.0</td>\n",
       "      <td>27.77</td>\n",
       "      <td>0.0</td>\n",
       "      <td>2.0</td>\n",
       "      <td>13.0</td>\n",
       "      <td>...</td>\n",
       "      <td>0</td>\n",
       "      <td>1</td>\n",
       "      <td>0</td>\n",
       "      <td>1</td>\n",
       "      <td>1</td>\n",
       "      <td>0</td>\n",
       "      <td>1</td>\n",
       "      <td>0</td>\n",
       "      <td>1</td>\n",
       "      <td>0</td>\n",
       "    </tr>\n",
       "  </tbody>\n",
       "</table>\n",
       "<p>5 rows × 94 columns</p>\n",
       "</div>"
      ],
      "text/plain": [
       "   Unnamed: 0   index  loan_amnt  int_rate  installment  annual_inc    dti  \\\n",
       "0       57107   57107    13375.0    0.1797       483.34    223000.0  29.99   \n",
       "1      141451  141451    21000.0    0.1308       478.68    123000.0  11.26   \n",
       "2      321143  321143    20000.0    0.1240       448.95    197000.0  11.28   \n",
       "3       11778   11778     3000.0    0.1240       100.22     45000.0  18.08   \n",
       "4      169382  169382    30000.0    0.1612      1056.49    133000.0  27.77   \n",
       "\n",
       "   delinq_2yrs  inq_last_6mths  open_acc  ...  verification_status_Verified  \\\n",
       "0          0.0             0.0      15.0  ...                             0   \n",
       "1          2.0             0.0      16.0  ...                             0   \n",
       "2          0.0             0.0      12.0  ...                             0   \n",
       "3          0.0             0.0      12.0  ...                             0   \n",
       "4          0.0             2.0      13.0  ...                             0   \n",
       "\n",
       "   pymnt_plan_n  initial_list_status_f  initial_list_status_w  \\\n",
       "0             1                      0                      1   \n",
       "1             1                      0                      1   \n",
       "2             1                      0                      1   \n",
       "3             1                      0                      1   \n",
       "4             1                      0                      1   \n",
       "\n",
       "   application_type_Individual  application_type_Joint App  hardship_flag_N  \\\n",
       "0                            1                           0                1   \n",
       "1                            1                           0                1   \n",
       "2                            1                           0                1   \n",
       "3                            1                           0                1   \n",
       "4                            1                           0                1   \n",
       "\n",
       "   hardship_flag_Y  debt_settlement_flag_N  debt_settlement_flag_Y  \n",
       "0                0                       1                       0  \n",
       "1                0                       1                       0  \n",
       "2                0                       1                       0  \n",
       "3                0                       1                       0  \n",
       "4                0                       1                       0  \n",
       "\n",
       "[5 rows x 94 columns]"
      ]
     },
     "execution_count": 65,
     "metadata": {},
     "output_type": "execute_result"
    }
   ],
   "source": [
    "x_train = pd.get_dummies(X)\n",
    "\n",
    "x_train.head(5)"
   ]
  },
  {
   "cell_type": "code",
   "execution_count": 66,
   "id": "02d0e527",
   "metadata": {},
   "outputs": [
    {
     "name": "stdout",
     "output_type": "stream",
     "text": [
      "<class 'pandas.core.frame.DataFrame'>\n",
      "RangeIndex: 12180 entries, 0 to 12179\n",
      "Data columns (total 94 columns):\n",
      " #   Column                               Non-Null Count  Dtype  \n",
      "---  ------                               --------------  -----  \n",
      " 0   Unnamed: 0                           12180 non-null  int64  \n",
      " 1   index                                12180 non-null  int64  \n",
      " 2   loan_amnt                            12180 non-null  float64\n",
      " 3   int_rate                             12180 non-null  float64\n",
      " 4   installment                          12180 non-null  float64\n",
      " 5   annual_inc                           12180 non-null  float64\n",
      " 6   dti                                  12180 non-null  float64\n",
      " 7   delinq_2yrs                          12180 non-null  float64\n",
      " 8   inq_last_6mths                       12180 non-null  float64\n",
      " 9   open_acc                             12180 non-null  float64\n",
      " 10  pub_rec                              12180 non-null  float64\n",
      " 11  revol_bal                            12180 non-null  float64\n",
      " 12  total_acc                            12180 non-null  float64\n",
      " 13  out_prncp                            12180 non-null  float64\n",
      " 14  out_prncp_inv                        12180 non-null  float64\n",
      " 15  total_pymnt                          12180 non-null  float64\n",
      " 16  total_pymnt_inv                      12180 non-null  float64\n",
      " 17  total_rec_prncp                      12180 non-null  float64\n",
      " 18  total_rec_int                        12180 non-null  float64\n",
      " 19  total_rec_late_fee                   12180 non-null  float64\n",
      " 20  recoveries                           12180 non-null  float64\n",
      " 21  collection_recovery_fee              12180 non-null  float64\n",
      " 22  last_pymnt_amnt                      12180 non-null  float64\n",
      " 23  collections_12_mths_ex_med           12180 non-null  float64\n",
      " 24  policy_code                          12180 non-null  float64\n",
      " 25  acc_now_delinq                       12180 non-null  float64\n",
      " 26  tot_coll_amt                         12180 non-null  float64\n",
      " 27  tot_cur_bal                          12180 non-null  float64\n",
      " 28  open_acc_6m                          12180 non-null  float64\n",
      " 29  open_act_il                          12180 non-null  float64\n",
      " 30  open_il_12m                          12180 non-null  float64\n",
      " 31  open_il_24m                          12180 non-null  float64\n",
      " 32  mths_since_rcnt_il                   12180 non-null  float64\n",
      " 33  total_bal_il                         12180 non-null  float64\n",
      " 34  il_util                              12180 non-null  float64\n",
      " 35  open_rv_12m                          12180 non-null  float64\n",
      " 36  open_rv_24m                          12180 non-null  float64\n",
      " 37  max_bal_bc                           12180 non-null  float64\n",
      " 38  all_util                             12180 non-null  float64\n",
      " 39  total_rev_hi_lim                     12180 non-null  float64\n",
      " 40  inq_fi                               12180 non-null  float64\n",
      " 41  total_cu_tl                          12180 non-null  float64\n",
      " 42  inq_last_12m                         12180 non-null  float64\n",
      " 43  acc_open_past_24mths                 12180 non-null  float64\n",
      " 44  avg_cur_bal                          12180 non-null  float64\n",
      " 45  bc_open_to_buy                       12180 non-null  float64\n",
      " 46  bc_util                              12180 non-null  float64\n",
      " 47  chargeoff_within_12_mths             12180 non-null  float64\n",
      " 48  delinq_amnt                          12180 non-null  float64\n",
      " 49  mo_sin_old_il_acct                   12180 non-null  float64\n",
      " 50  mo_sin_old_rev_tl_op                 12180 non-null  float64\n",
      " 51  mo_sin_rcnt_rev_tl_op                12180 non-null  float64\n",
      " 52  mo_sin_rcnt_tl                       12180 non-null  float64\n",
      " 53  mort_acc                             12180 non-null  float64\n",
      " 54  mths_since_recent_bc                 12180 non-null  float64\n",
      " 55  mths_since_recent_inq                12180 non-null  float64\n",
      " 56  num_accts_ever_120_pd                12180 non-null  float64\n",
      " 57  num_actv_bc_tl                       12180 non-null  float64\n",
      " 58  num_actv_rev_tl                      12180 non-null  float64\n",
      " 59  num_bc_sats                          12180 non-null  float64\n",
      " 60  num_bc_tl                            12180 non-null  float64\n",
      " 61  num_il_tl                            12180 non-null  float64\n",
      " 62  num_op_rev_tl                        12180 non-null  float64\n",
      " 63  num_rev_accts                        12180 non-null  float64\n",
      " 64  num_rev_tl_bal_gt_0                  12180 non-null  float64\n",
      " 65  num_sats                             12180 non-null  float64\n",
      " 66  num_tl_120dpd_2m                     12180 non-null  float64\n",
      " 67  num_tl_30dpd                         12180 non-null  float64\n",
      " 68  num_tl_90g_dpd_24m                   12180 non-null  float64\n",
      " 69  num_tl_op_past_12m                   12180 non-null  float64\n",
      " 70  pct_tl_nvr_dlq                       12180 non-null  float64\n",
      " 71  percent_bc_gt_75                     12180 non-null  float64\n",
      " 72  pub_rec_bankruptcies                 12180 non-null  float64\n",
      " 73  tax_liens                            12180 non-null  float64\n",
      " 74  tot_hi_cred_lim                      12180 non-null  float64\n",
      " 75  total_bal_ex_mort                    12180 non-null  float64\n",
      " 76  total_bc_limit                       12180 non-null  float64\n",
      " 77  total_il_high_credit_limit           12180 non-null  float64\n",
      " 78  home_ownership_ANY                   12180 non-null  uint8  \n",
      " 79  home_ownership_MORTGAGE              12180 non-null  uint8  \n",
      " 80  home_ownership_OWN                   12180 non-null  uint8  \n",
      " 81  home_ownership_RENT                  12180 non-null  uint8  \n",
      " 82  verification_status_Not Verified     12180 non-null  uint8  \n",
      " 83  verification_status_Source Verified  12180 non-null  uint8  \n",
      " 84  verification_status_Verified         12180 non-null  uint8  \n",
      " 85  pymnt_plan_n                         12180 non-null  uint8  \n",
      " 86  initial_list_status_f                12180 non-null  uint8  \n",
      " 87  initial_list_status_w                12180 non-null  uint8  \n",
      " 88  application_type_Individual          12180 non-null  uint8  \n",
      " 89  application_type_Joint App           12180 non-null  uint8  \n",
      " 90  hardship_flag_N                      12180 non-null  uint8  \n",
      " 91  hardship_flag_Y                      12180 non-null  uint8  \n",
      " 92  debt_settlement_flag_N               12180 non-null  uint8  \n",
      " 93  debt_settlement_flag_Y               12180 non-null  uint8  \n",
      "dtypes: float64(76), int64(2), uint8(16)\n",
      "memory usage: 7.4 MB\n"
     ]
    }
   ],
   "source": [
    "x_train.info()"
   ]
  },
  {
   "cell_type": "code",
   "execution_count": 67,
   "id": "ef3df0da",
   "metadata": {},
   "outputs": [
    {
     "data": {
      "text/plain": [
       "array([1, 1, 1, ..., 0, 0, 0])"
      ]
     },
     "execution_count": 67,
     "metadata": {},
     "output_type": "execute_result"
    }
   ],
   "source": [
    "y_train = LabelEncoder().fit_transform(train_df['loan_status'])\n",
    "y_train"
   ]
  },
  {
   "cell_type": "code",
   "execution_count": 68,
   "id": "4939b954",
   "metadata": {},
   "outputs": [],
   "source": [
    "#Test Data process\n",
    "#Convert categorical data to numeric and separate target feature for testing data"
   ]
  },
  {
   "cell_type": "code",
   "execution_count": 69,
   "id": "9ccff43c",
   "metadata": {},
   "outputs": [
    {
     "data": {
      "text/plain": [
       "array(['low_risk', 'high_risk'], dtype=object)"
      ]
     },
     "execution_count": 69,
     "metadata": {},
     "output_type": "execute_result"
    }
   ],
   "source": [
    "test_df['loan_status'].unique()"
   ]
  },
  {
   "cell_type": "code",
   "execution_count": 70,
   "id": "0fe6d32a",
   "metadata": {},
   "outputs": [
    {
     "name": "stdout",
     "output_type": "stream",
     "text": [
      "Unnamed: 0                    0\n",
      "index                         0\n",
      "loan_amnt                     0\n",
      "int_rate                      0\n",
      "installment                   0\n",
      "home_ownership                0\n",
      "annual_inc                    0\n",
      "verification_status           0\n",
      "loan_status                   0\n",
      "pymnt_plan                    0\n",
      "dti                           0\n",
      "delinq_2yrs                   0\n",
      "inq_last_6mths                0\n",
      "open_acc                      0\n",
      "pub_rec                       0\n",
      "revol_bal                     0\n",
      "total_acc                     0\n",
      "initial_list_status           0\n",
      "out_prncp                     0\n",
      "out_prncp_inv                 0\n",
      "total_pymnt                   0\n",
      "total_pymnt_inv               0\n",
      "total_rec_prncp               0\n",
      "total_rec_int                 0\n",
      "total_rec_late_fee            0\n",
      "recoveries                    0\n",
      "collection_recovery_fee       0\n",
      "last_pymnt_amnt               0\n",
      "collections_12_mths_ex_med    0\n",
      "policy_code                   0\n",
      "                             ..\n",
      "mo_sin_old_rev_tl_op          0\n",
      "mo_sin_rcnt_rev_tl_op         0\n",
      "mo_sin_rcnt_tl                0\n",
      "mort_acc                      0\n",
      "mths_since_recent_bc          0\n",
      "mths_since_recent_inq         0\n",
      "num_accts_ever_120_pd         0\n",
      "num_actv_bc_tl                0\n",
      "num_actv_rev_tl               0\n",
      "num_bc_sats                   0\n",
      "num_bc_tl                     0\n",
      "num_il_tl                     0\n",
      "num_op_rev_tl                 0\n",
      "num_rev_accts                 0\n",
      "num_rev_tl_bal_gt_0           0\n",
      "num_sats                      0\n",
      "num_tl_120dpd_2m              0\n",
      "num_tl_30dpd                  0\n",
      "num_tl_90g_dpd_24m            0\n",
      "num_tl_op_past_12m            0\n",
      "pct_tl_nvr_dlq                0\n",
      "percent_bc_gt_75              0\n",
      "pub_rec_bankruptcies          0\n",
      "tax_liens                     0\n",
      "tot_hi_cred_lim               0\n",
      "total_bal_ex_mort             0\n",
      "total_bc_limit                0\n",
      "total_il_high_credit_limit    0\n",
      "hardship_flag                 0\n",
      "debt_settlement_flag          0\n",
      "Length: 86, dtype: int64\n"
     ]
    }
   ],
   "source": [
    "print (test_df.isnull().sum())"
   ]
  },
  {
   "cell_type": "code",
   "execution_count": 71,
   "id": "8713d8ec",
   "metadata": {},
   "outputs": [],
   "source": [
    "Xtest = test_df.drop('loan_status', axis=1)"
   ]
  },
  {
   "cell_type": "code",
   "execution_count": 72,
   "id": "eed98318",
   "metadata": {},
   "outputs": [],
   "source": [
    "x_test = pd.get_dummies(Xtest)\n"
   ]
  },
  {
   "cell_type": "code",
   "execution_count": 73,
   "id": "431dcfee",
   "metadata": {},
   "outputs": [
    {
     "data": {
      "text/plain": [
       "array([1, 1, 1, ..., 0, 0, 0])"
      ]
     },
     "execution_count": 73,
     "metadata": {},
     "output_type": "execute_result"
    }
   ],
   "source": [
    "y_test = LabelEncoder().fit_transform(test_df['loan_status'])\n",
    "y_test"
   ]
  },
  {
   "cell_type": "code",
   "execution_count": 74,
   "id": "41b50ee5",
   "metadata": {},
   "outputs": [],
   "source": [
    " # add missing dummy variables to testing set"
   ]
  },
  {
   "cell_type": "code",
   "execution_count": 75,
   "id": "23c71d96",
   "metadata": {},
   "outputs": [
    {
     "data": {
      "text/plain": [
       "{'debt_settlement_flag_Y'}"
      ]
     },
     "execution_count": 75,
     "metadata": {},
     "output_type": "execute_result"
    }
   ],
   "source": [
    "missing_cols = set( x_train.columns ) - set( x_test.columns )\n",
    "missing_cols"
   ]
  },
  {
   "cell_type": "code",
   "execution_count": 76,
   "id": "c70e650a",
   "metadata": {},
   "outputs": [],
   "source": [
    "for c in missing_cols:\n",
    "    x_test[c] = 0"
   ]
  },
  {
   "cell_type": "code",
   "execution_count": 77,
   "id": "f947ce17",
   "metadata": {},
   "outputs": [
    {
     "data": {
      "text/html": [
       "<div>\n",
       "<style scoped>\n",
       "    .dataframe tbody tr th:only-of-type {\n",
       "        vertical-align: middle;\n",
       "    }\n",
       "\n",
       "    .dataframe tbody tr th {\n",
       "        vertical-align: top;\n",
       "    }\n",
       "\n",
       "    .dataframe thead th {\n",
       "        text-align: right;\n",
       "    }\n",
       "</style>\n",
       "<table border=\"1\" class=\"dataframe\">\n",
       "  <thead>\n",
       "    <tr style=\"text-align: right;\">\n",
       "      <th></th>\n",
       "      <th>Unnamed: 0</th>\n",
       "      <th>index</th>\n",
       "      <th>loan_amnt</th>\n",
       "      <th>int_rate</th>\n",
       "      <th>installment</th>\n",
       "      <th>annual_inc</th>\n",
       "      <th>dti</th>\n",
       "      <th>delinq_2yrs</th>\n",
       "      <th>inq_last_6mths</th>\n",
       "      <th>open_acc</th>\n",
       "      <th>...</th>\n",
       "      <th>verification_status_Verified</th>\n",
       "      <th>pymnt_plan_n</th>\n",
       "      <th>initial_list_status_f</th>\n",
       "      <th>initial_list_status_w</th>\n",
       "      <th>application_type_Individual</th>\n",
       "      <th>application_type_Joint App</th>\n",
       "      <th>hardship_flag_N</th>\n",
       "      <th>hardship_flag_Y</th>\n",
       "      <th>debt_settlement_flag_N</th>\n",
       "      <th>debt_settlement_flag_Y</th>\n",
       "    </tr>\n",
       "  </thead>\n",
       "  <tbody>\n",
       "    <tr>\n",
       "      <th>0</th>\n",
       "      <td>67991</td>\n",
       "      <td>67991</td>\n",
       "      <td>40000.0</td>\n",
       "      <td>0.0819</td>\n",
       "      <td>814.70</td>\n",
       "      <td>140000.0</td>\n",
       "      <td>19.75</td>\n",
       "      <td>0.0</td>\n",
       "      <td>1.0</td>\n",
       "      <td>18.0</td>\n",
       "      <td>...</td>\n",
       "      <td>0</td>\n",
       "      <td>1</td>\n",
       "      <td>0</td>\n",
       "      <td>1</td>\n",
       "      <td>1</td>\n",
       "      <td>0</td>\n",
       "      <td>1</td>\n",
       "      <td>0</td>\n",
       "      <td>1</td>\n",
       "      <td>0</td>\n",
       "    </tr>\n",
       "    <tr>\n",
       "      <th>1</th>\n",
       "      <td>25429</td>\n",
       "      <td>25429</td>\n",
       "      <td>6000.0</td>\n",
       "      <td>0.1524</td>\n",
       "      <td>208.70</td>\n",
       "      <td>55000.0</td>\n",
       "      <td>11.52</td>\n",
       "      <td>2.0</td>\n",
       "      <td>0.0</td>\n",
       "      <td>8.0</td>\n",
       "      <td>...</td>\n",
       "      <td>0</td>\n",
       "      <td>1</td>\n",
       "      <td>0</td>\n",
       "      <td>1</td>\n",
       "      <td>1</td>\n",
       "      <td>0</td>\n",
       "      <td>1</td>\n",
       "      <td>0</td>\n",
       "      <td>1</td>\n",
       "      <td>0</td>\n",
       "    </tr>\n",
       "    <tr>\n",
       "      <th>2</th>\n",
       "      <td>38496</td>\n",
       "      <td>38496</td>\n",
       "      <td>3600.0</td>\n",
       "      <td>0.1695</td>\n",
       "      <td>128.27</td>\n",
       "      <td>42000.0</td>\n",
       "      <td>6.74</td>\n",
       "      <td>0.0</td>\n",
       "      <td>0.0</td>\n",
       "      <td>6.0</td>\n",
       "      <td>...</td>\n",
       "      <td>0</td>\n",
       "      <td>1</td>\n",
       "      <td>0</td>\n",
       "      <td>1</td>\n",
       "      <td>1</td>\n",
       "      <td>0</td>\n",
       "      <td>1</td>\n",
       "      <td>0</td>\n",
       "      <td>1</td>\n",
       "      <td>0</td>\n",
       "    </tr>\n",
       "    <tr>\n",
       "      <th>3</th>\n",
       "      <td>19667</td>\n",
       "      <td>19667</td>\n",
       "      <td>20000.0</td>\n",
       "      <td>0.1524</td>\n",
       "      <td>478.33</td>\n",
       "      <td>100000.0</td>\n",
       "      <td>12.13</td>\n",
       "      <td>0.0</td>\n",
       "      <td>2.0</td>\n",
       "      <td>7.0</td>\n",
       "      <td>...</td>\n",
       "      <td>0</td>\n",
       "      <td>1</td>\n",
       "      <td>0</td>\n",
       "      <td>1</td>\n",
       "      <td>1</td>\n",
       "      <td>0</td>\n",
       "      <td>1</td>\n",
       "      <td>0</td>\n",
       "      <td>1</td>\n",
       "      <td>0</td>\n",
       "    </tr>\n",
       "    <tr>\n",
       "      <th>4</th>\n",
       "      <td>37505</td>\n",
       "      <td>37505</td>\n",
       "      <td>3600.0</td>\n",
       "      <td>0.1240</td>\n",
       "      <td>120.27</td>\n",
       "      <td>50000.0</td>\n",
       "      <td>16.08</td>\n",
       "      <td>0.0</td>\n",
       "      <td>3.0</td>\n",
       "      <td>6.0</td>\n",
       "      <td>...</td>\n",
       "      <td>0</td>\n",
       "      <td>1</td>\n",
       "      <td>0</td>\n",
       "      <td>1</td>\n",
       "      <td>1</td>\n",
       "      <td>0</td>\n",
       "      <td>1</td>\n",
       "      <td>0</td>\n",
       "      <td>1</td>\n",
       "      <td>0</td>\n",
       "    </tr>\n",
       "  </tbody>\n",
       "</table>\n",
       "<p>5 rows × 94 columns</p>\n",
       "</div>"
      ],
      "text/plain": [
       "   Unnamed: 0  index  loan_amnt  int_rate  installment  annual_inc    dti  \\\n",
       "0       67991  67991    40000.0    0.0819       814.70    140000.0  19.75   \n",
       "1       25429  25429     6000.0    0.1524       208.70     55000.0  11.52   \n",
       "2       38496  38496     3600.0    0.1695       128.27     42000.0   6.74   \n",
       "3       19667  19667    20000.0    0.1524       478.33    100000.0  12.13   \n",
       "4       37505  37505     3600.0    0.1240       120.27     50000.0  16.08   \n",
       "\n",
       "   delinq_2yrs  inq_last_6mths  open_acc  ...  verification_status_Verified  \\\n",
       "0          0.0             1.0      18.0  ...                             0   \n",
       "1          2.0             0.0       8.0  ...                             0   \n",
       "2          0.0             0.0       6.0  ...                             0   \n",
       "3          0.0             2.0       7.0  ...                             0   \n",
       "4          0.0             3.0       6.0  ...                             0   \n",
       "\n",
       "   pymnt_plan_n  initial_list_status_f  initial_list_status_w  \\\n",
       "0             1                      0                      1   \n",
       "1             1                      0                      1   \n",
       "2             1                      0                      1   \n",
       "3             1                      0                      1   \n",
       "4             1                      0                      1   \n",
       "\n",
       "   application_type_Individual  application_type_Joint App  hardship_flag_N  \\\n",
       "0                            1                           0                1   \n",
       "1                            1                           0                1   \n",
       "2                            1                           0                1   \n",
       "3                            1                           0                1   \n",
       "4                            1                           0                1   \n",
       "\n",
       "   hardship_flag_Y  debt_settlement_flag_N  debt_settlement_flag_Y  \n",
       "0                0                       1                       0  \n",
       "1                0                       1                       0  \n",
       "2                0                       1                       0  \n",
       "3                0                       1                       0  \n",
       "4                0                       1                       0  \n",
       "\n",
       "[5 rows x 94 columns]"
      ]
     },
     "execution_count": 77,
     "metadata": {},
     "output_type": "execute_result"
    }
   ],
   "source": [
    "x_test.head()"
   ]
  },
  {
   "cell_type": "code",
   "execution_count": 78,
   "id": "de6b291a",
   "metadata": {},
   "outputs": [
    {
     "data": {
      "text/plain": [
       "array([1, 1, 1, 1, 1, 1, 1, 1, 1])"
      ]
     },
     "execution_count": 78,
     "metadata": {},
     "output_type": "execute_result"
    }
   ],
   "source": [
    "y_test[1:10]"
   ]
  },
  {
   "cell_type": "markdown",
   "id": "147b6efc",
   "metadata": {},
   "source": [
    "# Predict which model will be best and why"
   ]
  },
  {
   "cell_type": "code",
   "execution_count": 79,
   "id": "4e781abc",
   "metadata": {},
   "outputs": [
    {
     "data": {
      "text/plain": [
       "<matplotlib.collections.PathCollection at 0x2404538fb80>"
      ]
     },
     "execution_count": 79,
     "metadata": {},
     "output_type": "execute_result"
    },
    {
     "data": {
      "image/png": "[encoded data removed]",
      "text/plain": [
       "<Figure size 432x288 with 1 Axes>"
      ]
     },
     "metadata": {
      "needs_background": "light"
     },
     "output_type": "display_data"
    }
   ],
   "source": [
    "plt.scatter(train_df['annual_inc'], train_df['loan_status'])"
   ]
  },
  {
   "cell_type": "code",
   "execution_count": 80,
   "id": "0b151ac5",
   "metadata": {},
   "outputs": [],
   "source": [
    "#I think Random Forest Classifier will be better because the data has a lot of categorical data\n",
    "#and logistic regression tends to not do as well with this type of data.\n",
    "#Also I checked one of the number variables which is annual income, thinking the more income one has the lower risk it will be\n",
    "#but clearly more factors will be needed to make this desition"
   ]
  },
  {
   "cell_type": "code",
   "execution_count": 81,
   "id": "3c917869",
   "metadata": {},
   "outputs": [
    {
     "data": {
      "text/plain": [
       "(12180, 86)"
      ]
     },
     "execution_count": 81,
     "metadata": {},
     "output_type": "execute_result"
    }
   ],
   "source": [
    "#Models with NOT scaled data\n",
    "train_df.shape"
   ]
  },
  {
   "cell_type": "markdown",
   "id": "d4e67806",
   "metadata": {},
   "source": [
    "# Train the Logistic Regression model on unscaled data and print the model score"
   ]
  },
  {
   "cell_type": "code",
   "execution_count": 82,
   "id": "fe5a516c",
   "metadata": {},
   "outputs": [
    {
     "data": {
      "text/plain": [
       "(12180, 94)"
      ]
     },
     "execution_count": 82,
     "metadata": {},
     "output_type": "execute_result"
    }
   ],
   "source": [
    "\n",
    "x_train.shape"
   ]
  },
  {
   "cell_type": "code",
   "execution_count": 83,
   "id": "326bc9dd",
   "metadata": {},
   "outputs": [
    {
     "data": {
      "text/plain": [
       "(4702, 94)"
      ]
     },
     "execution_count": 83,
     "metadata": {},
     "output_type": "execute_result"
    }
   ],
   "source": [
    "x_test.shape"
   ]
  },
  {
   "cell_type": "code",
   "execution_count": 84,
   "id": "277291e4",
   "metadata": {},
   "outputs": [
    {
     "name": "stdout",
     "output_type": "stream",
     "text": [
      "Training Score: 0.7004105090311987\n",
      "Testing Score: 0.562951935346661\n"
     ]
    },
    {
     "name": "stderr",
     "output_type": "stream",
     "text": [
      "C:\\Users\\edipa\\Anaconda3\\envs\\newvenv\\lib\\site-packages\\sklearn\\linear_model\\_logistic.py:814: ConvergenceWarning: lbfgs failed to converge (status=1):\n",
      "STOP: TOTAL NO. of f AND g EVALUATIONS EXCEEDS LIMIT.\n",
      "\n",
      "Increase the number of iterations (max_iter) or scale the data as shown in:\n",
      "    https://scikit-learn.org/stable/modules/preprocessing.html\n",
      "Please also refer to the documentation for alternative solver options:\n",
      "    https://scikit-learn.org/stable/modules/linear_model.html#logistic-regression\n",
      "  n_iter_i = _check_optimize_result(\n"
     ]
    }
   ],
   "source": [
    "clf = LogisticRegression(max_iter=200000).fit(x_train, y_train)\n",
    "print(f'Training Score: {clf.score(x_train, y_train)}')\n",
    "print(f'Testing Score: {clf.score(x_test, y_test)}')"
   ]
  },
  {
   "cell_type": "code",
   "execution_count": 85,
   "id": "31d14c2d",
   "metadata": {},
   "outputs": [],
   "source": [
    "#This model is not doing so well. Maybe when the data is scaled like it's suggesting in the warning, the logisticregresion model \n",
    "#can perform better and the test data also could do better. \n",
    "#"
   ]
  },
  {
   "cell_type": "markdown",
   "id": "09089839",
   "metadata": {},
   "source": [
    "\n",
    " # Train a Random Forest Classifier model on unscaled data and print the model score"
   ]
  },
  {
   "cell_type": "code",
   "execution_count": 86,
   "id": "aa69dde5",
   "metadata": {},
   "outputs": [],
   "source": [
    "clf = RandomForestClassifier(random_state=1).fit(x_train, y_train)\n"
   ]
  },
  {
   "cell_type": "code",
   "execution_count": 87,
   "id": "e3c53665",
   "metadata": {},
   "outputs": [
    {
     "name": "stdout",
     "output_type": "stream",
     "text": [
      "Training Score: 1.0\n"
     ]
    }
   ],
   "source": [
    " print(f'Training Score: {clf.score(x_train, y_train)}')"
   ]
  },
  {
   "cell_type": "code",
   "execution_count": 88,
   "id": "01085e18",
   "metadata": {},
   "outputs": [
    {
     "name": "stdout",
     "output_type": "stream",
     "text": [
      "Testing Score: 0.6405784772437261\n"
     ]
    }
   ],
   "source": [
    " print(f'Testing Score: {clf.score(x_test, y_test)}')"
   ]
  },
  {
   "cell_type": "code",
   "execution_count": 89,
   "id": "c4c7d8f6",
   "metadata": {},
   "outputs": [
    {
     "data": {
      "text/plain": [
       "array([1, 1, 1, ..., 0, 0, 0])"
      ]
     },
     "execution_count": 89,
     "metadata": {},
     "output_type": "execute_result"
    }
   ],
   "source": [
    "y_pred = clf.predict(x_test)\n",
    "y_pred"
   ]
  },
  {
   "cell_type": "code",
   "execution_count": 90,
   "id": "dd8c4eb7",
   "metadata": {},
   "outputs": [],
   "source": [
    " from sklearn.metrics import classification_report"
   ]
  },
  {
   "cell_type": "code",
   "execution_count": 91,
   "id": "07781390",
   "metadata": {},
   "outputs": [
    {
     "name": "stdout",
     "output_type": "stream",
     "text": [
      "              precision    recall  f1-score   support\n",
      "\n",
      "           0       0.78      0.40      0.52      2351\n",
      "           1       0.59      0.89      0.71      2351\n",
      "\n",
      "    accuracy                           0.64      4702\n",
      "   macro avg       0.68      0.64      0.62      4702\n",
      "weighted avg       0.68      0.64      0.62      4702\n",
      "\n"
     ]
    }
   ],
   "source": [
    "print(classification_report(y_test, y_pred))"
   ]
  },
  {
   "cell_type": "code",
   "execution_count": 92,
   "id": "4a651716",
   "metadata": {},
   "outputs": [],
   "source": [
    "#This model is probably overfitting because having a perfect score in the training data means the data addapted so well to the model, \n",
    "#and the testing data has a slight change the model won't do so well as it is in this case of getting a 64% "
   ]
  },
  {
   "cell_type": "markdown",
   "id": "29a75728",
   "metadata": {},
   "source": [
    "# Train the Logistic Regression model using scaled data and print the model score"
   ]
  },
  {
   "cell_type": "code",
   "execution_count": 93,
   "id": "888f66a7",
   "metadata": {},
   "outputs": [],
   "source": [
    "scaler = StandardScaler().fit(x_train)\n",
    "X_train_scaled = scaler.transform(x_train)\n",
    "X_test_scaled = scaler.transform(x_test)\n"
   ]
  },
  {
   "cell_type": "code",
   "execution_count": null,
   "id": "76e85c60",
   "metadata": {},
   "outputs": [],
   "source": []
  },
  {
   "cell_type": "code",
   "execution_count": 94,
   "id": "805ebda2",
   "metadata": {},
   "outputs": [
    {
     "name": "stdout",
     "output_type": "stream",
     "text": [
      "Training Score: 0.7128899835796387\n",
      "Testing Score: 0.7203317737133135\n"
     ]
    }
   ],
   "source": [
    "clf = LogisticRegression(max_iter = 10000).fit(X_train_scaled, y_train)\n",
    "print(f'Training Score: {clf.score(X_train_scaled, y_train)}')\n",
    "print(f'Testing Score: {clf.score(X_test_scaled, y_test)}')"
   ]
  },
  {
   "cell_type": "code",
   "execution_count": 95,
   "id": "e435e9ab",
   "metadata": {},
   "outputs": [],
   "source": [
    "#I think here the model is doing ok because they are close to eachother the training and the testing score \n",
    "#and they are not that low, although the training score data has a lower score but not that far off.\n"
   ]
  },
  {
   "cell_type": "markdown",
   "id": "68a64ad6",
   "metadata": {},
   "source": [
    "# Train the Random Forest Classifier model on scaled data and print the model score"
   ]
  },
  {
   "cell_type": "code",
   "execution_count": 96,
   "id": "b454fa55",
   "metadata": {},
   "outputs": [
    {
     "name": "stdout",
     "output_type": "stream",
     "text": [
      "              precision    recall  f1-score   support\n",
      "\n",
      "           0       0.78      0.40      0.53      2351\n",
      "           1       0.60      0.89      0.71      2351\n",
      "\n",
      "    accuracy                           0.64      4702\n",
      "   macro avg       0.69      0.64      0.62      4702\n",
      "weighted avg       0.69      0.64      0.62      4702\n",
      "\n",
      "Training Score: 1.0\n",
      "Testing Score: 0.6418545299872395\n"
     ]
    }
   ],
   "source": [
    "clf = RandomForestClassifier(random_state=1).fit(X_train_scaled, y_train)\n",
    "y_pred = clf.predict(X_test_scaled)\n",
    "print(classification_report(y_test, y_pred))\n",
    "print(f'Training Score: {clf.score(X_train_scaled, y_train)}')\n",
    "print(f'Testing Score: {clf.score(X_test_scaled, y_test)}')"
   ]
  },
  {
   "cell_type": "code",
   "execution_count": 97,
   "id": "e4de0e16",
   "metadata": {},
   "outputs": [],
   "source": [
    "#Scaling the data in this model didn't help. It still seems to overfit. We got the same results as the unscaled data."
   ]
  },
  {
   "cell_type": "markdown",
   "id": "2357410c",
   "metadata": {},
   "source": [
    "# Train the Logistic Regression model on unscaled and split data and print the model score"
   ]
  },
  {
   "cell_type": "code",
   "execution_count": 98,
   "id": "e94bb996",
   "metadata": {},
   "outputs": [],
   "source": [
    "X1_train, X1_test, y1_train, y1_test = train_test_split(x_train, y_train, random_state=1)"
   ]
  },
  {
   "cell_type": "code",
   "execution_count": 99,
   "id": "b2f685fe",
   "metadata": {},
   "outputs": [
    {
     "name": "stdout",
     "output_type": "stream",
     "text": [
      "Training Score: 0.7009304871373837\n",
      "Testing Score: 0.7060755336617406\n"
     ]
    },
    {
     "name": "stderr",
     "output_type": "stream",
     "text": [
      "C:\\Users\\edipa\\Anaconda3\\envs\\newvenv\\lib\\site-packages\\sklearn\\linear_model\\_logistic.py:814: ConvergenceWarning: lbfgs failed to converge (status=1):\n",
      "STOP: TOTAL NO. of f AND g EVALUATIONS EXCEEDS LIMIT.\n",
      "\n",
      "Increase the number of iterations (max_iter) or scale the data as shown in:\n",
      "    https://scikit-learn.org/stable/modules/preprocessing.html\n",
      "Please also refer to the documentation for alternative solver options:\n",
      "    https://scikit-learn.org/stable/modules/linear_model.html#logistic-regression\n",
      "  n_iter_i = _check_optimize_result(\n"
     ]
    }
   ],
   "source": [
    "clf = LogisticRegression(max_iter=200000).fit(X1_train, y1_train)\n",
    "print(f'Training Score: {clf.score(X1_train, y1_train)}')\n",
    "print(f'Testing Score: {clf.score(X1_test, y1_test)}')"
   ]
  },
  {
   "cell_type": "code",
   "execution_count": 100,
   "id": "3569218f",
   "metadata": {},
   "outputs": [],
   "source": [
    "#Here the scores are about the same, I would say 70 percent accuracy for both."
   ]
  },
  {
   "cell_type": "markdown",
   "id": "f7009846",
   "metadata": {},
   "source": [
    "# Train the Random Forest Classifier model on unscaled and split data and print the model score"
   ]
  },
  {
   "cell_type": "code",
   "execution_count": 101,
   "id": "8630a88d",
   "metadata": {},
   "outputs": [
    {
     "name": "stdout",
     "output_type": "stream",
     "text": [
      "Training Score: 1.0\n",
      "Testing Score: 0.7865353037766831\n"
     ]
    }
   ],
   "source": [
    "clf = RandomForestClassifier(random_state=1).fit(X1_train, y1_train)\n",
    "print(f'Training Score: {clf.score(X1_train, y1_train)}')\n",
    "print(f'Testing Score: {clf.score(X1_test, y1_test)}')"
   ]
  },
  {
   "cell_type": "code",
   "execution_count": null,
   "id": "15beb781",
   "metadata": {},
   "outputs": [],
   "source": [
    "#The score here is still overfitting but with a better testing score."
   ]
  },
  {
   "cell_type": "markdown",
   "id": "7f319bf8",
   "metadata": {},
   "source": [
    "# Train the Logistic Regression model on scaled and split data and print the model score"
   ]
  },
  {
   "cell_type": "code",
   "execution_count": 102,
   "id": "b8949cb8",
   "metadata": {},
   "outputs": [],
   "source": [
    "X1_train, X1_test, y1_train, y1_test = train_test_split(x_train, y_train, random_state=1)\n",
    "scaler = StandardScaler().fit(X1_train)\n",
    "X_train_scaled = scaler.transform(X1_train)\n",
    "X_test_scaled = scaler.transform(X1_test)\n"
   ]
  },
  {
   "cell_type": "code",
   "execution_count": 42,
   "id": "14cee9b9",
   "metadata": {},
   "outputs": [],
   "source": [
    "#Added some different parameters to see if I get a better score. It takes like 15 mins to run this step"
   ]
  },
  {
   "cell_type": "code",
   "execution_count": 168,
   "id": "57a6c710",
   "metadata": {},
   "outputs": [
    {
     "name": "stdout",
     "output_type": "stream",
     "text": [
      "Fitting 3 folds for each of 1600 candidates, totalling 4800 fits\n"
     ]
    },
    {
     "name": "stderr",
     "output_type": "stream",
     "text": [
      "C:\\Users\\edipa\\Anaconda3\\envs\\newvenv\\lib\\site-packages\\sklearn\\model_selection\\_validation.py:372: FitFailedWarning: \n",
      "2160 fits failed out of a total of 4800.\n",
      "The score on these train-test partitions for these parameters will be set to nan.\n",
      "If these failures are not expected, you can try to debug them by setting error_score='raise'.\n",
      "\n",
      "Below are more details about the failures:\n",
      "--------------------------------------------------------------------------------\n",
      "240 fits failed with the following error:\n",
      "Traceback (most recent call last):\n",
      "  File \"C:\\Users\\edipa\\Anaconda3\\envs\\newvenv\\lib\\site-packages\\sklearn\\model_selection\\_validation.py\", line 680, in _fit_and_score\n",
      "    estimator.fit(X_train, y_train, **fit_params)\n",
      "  File \"C:\\Users\\edipa\\Anaconda3\\envs\\newvenv\\lib\\site-packages\\sklearn\\linear_model\\_logistic.py\", line 1461, in fit\n",
      "    solver = _check_solver(self.solver, self.penalty, self.dual)\n",
      "  File \"C:\\Users\\edipa\\Anaconda3\\envs\\newvenv\\lib\\site-packages\\sklearn\\linear_model\\_logistic.py\", line 447, in _check_solver\n",
      "    raise ValueError(\n",
      "ValueError: Solver lbfgs supports only 'l2' or 'none' penalties, got l1 penalty.\n",
      "\n",
      "--------------------------------------------------------------------------------\n",
      "240 fits failed with the following error:\n",
      "Traceback (most recent call last):\n",
      "  File \"C:\\Users\\edipa\\Anaconda3\\envs\\newvenv\\lib\\site-packages\\sklearn\\model_selection\\_validation.py\", line 680, in _fit_and_score\n",
      "    estimator.fit(X_train, y_train, **fit_params)\n",
      "  File \"C:\\Users\\edipa\\Anaconda3\\envs\\newvenv\\lib\\site-packages\\sklearn\\linear_model\\_logistic.py\", line 1461, in fit\n",
      "    solver = _check_solver(self.solver, self.penalty, self.dual)\n",
      "  File \"C:\\Users\\edipa\\Anaconda3\\envs\\newvenv\\lib\\site-packages\\sklearn\\linear_model\\_logistic.py\", line 447, in _check_solver\n",
      "    raise ValueError(\n",
      "ValueError: Solver newton-cg supports only 'l2' or 'none' penalties, got l1 penalty.\n",
      "\n",
      "--------------------------------------------------------------------------------\n",
      "240 fits failed with the following error:\n",
      "Traceback (most recent call last):\n",
      "  File \"C:\\Users\\edipa\\Anaconda3\\envs\\newvenv\\lib\\site-packages\\sklearn\\model_selection\\_validation.py\", line 680, in _fit_and_score\n",
      "    estimator.fit(X_train, y_train, **fit_params)\n",
      "  File \"C:\\Users\\edipa\\Anaconda3\\envs\\newvenv\\lib\\site-packages\\sklearn\\linear_model\\_logistic.py\", line 1461, in fit\n",
      "    solver = _check_solver(self.solver, self.penalty, self.dual)\n",
      "  File \"C:\\Users\\edipa\\Anaconda3\\envs\\newvenv\\lib\\site-packages\\sklearn\\linear_model\\_logistic.py\", line 447, in _check_solver\n",
      "    raise ValueError(\n",
      "ValueError: Solver sag supports only 'l2' or 'none' penalties, got l1 penalty.\n",
      "\n",
      "--------------------------------------------------------------------------------\n",
      "240 fits failed with the following error:\n",
      "Traceback (most recent call last):\n",
      "  File \"C:\\Users\\edipa\\Anaconda3\\envs\\newvenv\\lib\\site-packages\\sklearn\\model_selection\\_validation.py\", line 680, in _fit_and_score\n",
      "    estimator.fit(X_train, y_train, **fit_params)\n",
      "  File \"C:\\Users\\edipa\\Anaconda3\\envs\\newvenv\\lib\\site-packages\\sklearn\\linear_model\\_logistic.py\", line 1461, in fit\n",
      "    solver = _check_solver(self.solver, self.penalty, self.dual)\n",
      "  File \"C:\\Users\\edipa\\Anaconda3\\envs\\newvenv\\lib\\site-packages\\sklearn\\linear_model\\_logistic.py\", line 447, in _check_solver\n",
      "    raise ValueError(\n",
      "ValueError: Solver lbfgs supports only 'l2' or 'none' penalties, got elasticnet penalty.\n",
      "\n",
      "--------------------------------------------------------------------------------\n",
      "240 fits failed with the following error:\n",
      "Traceback (most recent call last):\n",
      "  File \"C:\\Users\\edipa\\Anaconda3\\envs\\newvenv\\lib\\site-packages\\sklearn\\model_selection\\_validation.py\", line 680, in _fit_and_score\n",
      "    estimator.fit(X_train, y_train, **fit_params)\n",
      "  File \"C:\\Users\\edipa\\Anaconda3\\envs\\newvenv\\lib\\site-packages\\sklearn\\linear_model\\_logistic.py\", line 1461, in fit\n",
      "    solver = _check_solver(self.solver, self.penalty, self.dual)\n",
      "  File \"C:\\Users\\edipa\\Anaconda3\\envs\\newvenv\\lib\\site-packages\\sklearn\\linear_model\\_logistic.py\", line 447, in _check_solver\n",
      "    raise ValueError(\n",
      "ValueError: Solver newton-cg supports only 'l2' or 'none' penalties, got elasticnet penalty.\n",
      "\n",
      "--------------------------------------------------------------------------------\n",
      "240 fits failed with the following error:\n",
      "Traceback (most recent call last):\n",
      "  File \"C:\\Users\\edipa\\Anaconda3\\envs\\newvenv\\lib\\site-packages\\sklearn\\model_selection\\_validation.py\", line 680, in _fit_and_score\n",
      "    estimator.fit(X_train, y_train, **fit_params)\n",
      "  File \"C:\\Users\\edipa\\Anaconda3\\envs\\newvenv\\lib\\site-packages\\sklearn\\linear_model\\_logistic.py\", line 1461, in fit\n",
      "    solver = _check_solver(self.solver, self.penalty, self.dual)\n",
      "  File \"C:\\Users\\edipa\\Anaconda3\\envs\\newvenv\\lib\\site-packages\\sklearn\\linear_model\\_logistic.py\", line 457, in _check_solver\n",
      "    raise ValueError(\n",
      "ValueError: Only 'saga' solver supports elasticnet penalty, got solver=liblinear.\n",
      "\n",
      "--------------------------------------------------------------------------------\n",
      "240 fits failed with the following error:\n",
      "Traceback (most recent call last):\n",
      "  File \"C:\\Users\\edipa\\Anaconda3\\envs\\newvenv\\lib\\site-packages\\sklearn\\model_selection\\_validation.py\", line 680, in _fit_and_score\n",
      "    estimator.fit(X_train, y_train, **fit_params)\n",
      "  File \"C:\\Users\\edipa\\Anaconda3\\envs\\newvenv\\lib\\site-packages\\sklearn\\linear_model\\_logistic.py\", line 1461, in fit\n",
      "    solver = _check_solver(self.solver, self.penalty, self.dual)\n",
      "  File \"C:\\Users\\edipa\\Anaconda3\\envs\\newvenv\\lib\\site-packages\\sklearn\\linear_model\\_logistic.py\", line 447, in _check_solver\n",
      "    raise ValueError(\n",
      "ValueError: Solver sag supports only 'l2' or 'none' penalties, got elasticnet penalty.\n",
      "\n",
      "--------------------------------------------------------------------------------\n",
      "240 fits failed with the following error:\n",
      "Traceback (most recent call last):\n",
      "  File \"C:\\Users\\edipa\\Anaconda3\\envs\\newvenv\\lib\\site-packages\\sklearn\\model_selection\\_validation.py\", line 680, in _fit_and_score\n",
      "    estimator.fit(X_train, y_train, **fit_params)\n",
      "  File \"C:\\Users\\edipa\\Anaconda3\\envs\\newvenv\\lib\\site-packages\\sklearn\\linear_model\\_logistic.py\", line 1471, in fit\n",
      "    raise ValueError(\n",
      "ValueError: l1_ratio must be between 0 and 1; got (l1_ratio=None)\n",
      "\n",
      "--------------------------------------------------------------------------------\n",
      "240 fits failed with the following error:\n",
      "Traceback (most recent call last):\n",
      "  File \"C:\\Users\\edipa\\Anaconda3\\envs\\newvenv\\lib\\site-packages\\sklearn\\model_selection\\_validation.py\", line 680, in _fit_and_score\n",
      "    estimator.fit(X_train, y_train, **fit_params)\n",
      "  File \"C:\\Users\\edipa\\Anaconda3\\envs\\newvenv\\lib\\site-packages\\sklearn\\linear_model\\_logistic.py\", line 1461, in fit\n",
      "    solver = _check_solver(self.solver, self.penalty, self.dual)\n",
      "  File \"C:\\Users\\edipa\\Anaconda3\\envs\\newvenv\\lib\\site-packages\\sklearn\\linear_model\\_logistic.py\", line 464, in _check_solver\n",
      "    raise ValueError(\"penalty='none' is not supported for the liblinear solver\")\n",
      "ValueError: penalty='none' is not supported for the liblinear solver\n",
      "\n",
      "  warnings.warn(some_fits_failed_message, FitFailedWarning)\n",
      "C:\\Users\\edipa\\Anaconda3\\envs\\newvenv\\lib\\site-packages\\sklearn\\model_selection\\_search.py:969: UserWarning: One or more of the test scores are non-finite: [       nan        nan 0.50257252 ...        nan 0.69589491 0.69567597]\n",
      "  warnings.warn(\n",
      "C:\\Users\\edipa\\Anaconda3\\envs\\newvenv\\lib\\site-packages\\sklearn\\linear_model\\_sag.py:352: ConvergenceWarning: The max_iter was reached which means the coef_ did not converge\n",
      "  warnings.warn(\n"
     ]
    }
   ],
   "source": [
    "logclf = LogisticRegression()\n",
    "param_grid = [{'penalty':['l1','l2','elasticnet','none'], \n",
    "               'C': np.logspace(-4, 4, 20),\n",
    "              'solver':['lbfgs','newton-cg','liblinear','sag','saga'],\n",
    "              'max_iter':[100,1000,2500,5000]}]\n",
    "clf = GridSearchCV(logclf, param_grid = param_grid, cv = 3, verbose= True, n_jobs = -1)\n",
    "bestclf = clf.fit(X_train_scaled, y1_train)\n"
   ]
  },
  {
   "cell_type": "code",
   "execution_count": 170,
   "id": "ce4aa069",
   "metadata": {},
   "outputs": [
    {
     "name": "stdout",
     "output_type": "stream",
     "text": [
      "done\n"
     ]
    }
   ],
   "source": [
    "#si sirve le printeas\n",
    "print('done')"
   ]
  },
  {
   "cell_type": "code",
   "execution_count": 171,
   "id": "2d40113a",
   "metadata": {},
   "outputs": [
    {
     "name": "stdout",
     "output_type": "stream",
     "text": [
      "Training Score: 0.7069512862616311\n",
      "Testing Score from split data: 0.7169129720853858\n"
     ]
    }
   ],
   "source": [
    "print(f'Training Score: {bestclf.score(X_train_scaled, y1_train)}')\n",
    "print(f'Testing Score from split data: {bestclf.score(X_test_scaled, y1_test)}')"
   ]
  },
  {
   "cell_type": "code",
   "execution_count": 172,
   "id": "3fea6ff1",
   "metadata": {},
   "outputs": [
    {
     "data": {
      "text/plain": [
       "LogisticRegression(C=4.281332398719396, max_iter=1000, penalty='l1',\n",
       "                   solver='saga')"
      ]
     },
     "execution_count": 172,
     "metadata": {},
     "output_type": "execute_result"
    }
   ],
   "source": [
    "bestclf.best_estimator_"
   ]
  },
  {
   "cell_type": "code",
   "execution_count": null,
   "id": "ddcda543",
   "metadata": {},
   "outputs": [],
   "source": [
    "#Not much changed from Regression model on unscaled and split but I can see saga solver gave us just a little bit better score"
   ]
  },
  {
   "cell_type": "code",
   "execution_count": null,
   "id": "b04c4bc8",
   "metadata": {},
   "outputs": [],
   "source": [
    "#Try just as the previouse way without changing the solver or any other parameter "
   ]
  },
  {
   "cell_type": "code",
   "execution_count": 103,
   "id": "81bcbf31",
   "metadata": {},
   "outputs": [
    {
     "name": "stdout",
     "output_type": "stream",
     "text": [
      "Training Score: 0.705528188286809\n",
      "Testing Score from split data: 0.7178981937602628\n"
     ]
    }
   ],
   "source": [
    "clf = LogisticRegression(max_iter = 10000).fit(X_train_scaled, y1_train)\n",
    "print(f'Training Score: {clf.score(X_train_scaled, y1_train)}')\n",
    "print(f'Testing Score from split data: {clf.score(X_test_scaled, y1_test)}')"
   ]
  },
  {
   "cell_type": "code",
   "execution_count": 104,
   "id": "b6d5437c",
   "metadata": {},
   "outputs": [],
   "source": [
    "#Try to fit the original testing data from 2020Q in to this new split model"
   ]
  },
  {
   "cell_type": "code",
   "execution_count": 105,
   "id": "fe4b32f2",
   "metadata": {},
   "outputs": [
    {
     "name": "stdout",
     "output_type": "stream",
     "text": [
      "Training Score: 0.705528188286809\n",
      "Testing Score from 2020Q data: 0.6631220757124627\n"
     ]
    }
   ],
   "source": [
    "scaler = StandardScaler().fit(x_test)\n",
    "X_test_scaled = scaler.transform(x_test)\n",
    "print(f'Training Score: {clf.score(X_train_scaled, y1_train)}')\n",
    "print(f'Testing Score from 2020Q data: {clf.score(X_test_scaled, y_test)}')"
   ]
  },
  {
   "cell_type": "markdown",
   "id": "5833a114",
   "metadata": {},
   "source": [
    "# Train the Random Forest Classifier model on scaled and split data and print the model score"
   ]
  },
  {
   "cell_type": "code",
   "execution_count": 106,
   "id": "81a00eae",
   "metadata": {},
   "outputs": [
    {
     "name": "stdout",
     "output_type": "stream",
     "text": [
      "              precision    recall  f1-score   support\n",
      "\n",
      "           0       0.77      0.82      0.79      1499\n",
      "           1       0.81      0.76      0.78      1546\n",
      "\n",
      "    accuracy                           0.79      3045\n",
      "   macro avg       0.79      0.79      0.79      3045\n",
      "weighted avg       0.79      0.79      0.79      3045\n",
      "\n",
      "Training Score: 1.0\n",
      "Testing Score from split data: 0.7865353037766831\n"
     ]
    }
   ],
   "source": [
    "scaler = StandardScaler().fit(X1_train)\n",
    "X_train_scaled = scaler.transform(X1_train)\n",
    "X_test_scaled = scaler.transform(X1_test)\n",
    "\n",
    "clf1 = RandomForestClassifier(random_state=1).fit(X_train_scaled, y1_train)\n",
    "y1_pred = clf1.predict(X_test_scaled)\n",
    "print(classification_report(y1_test, y1_pred))\n",
    "print(f'Training Score: {clf1.score(X_train_scaled, y1_train)}')\n",
    "print(f'Testing Score from split data: {clf1.score(X_test_scaled, y1_test)}')"
   ]
  },
  {
   "cell_type": "code",
   "execution_count": 107,
   "id": "953217f4",
   "metadata": {},
   "outputs": [],
   "source": [
    "#Predict using the model of the split train scaled data vs 2020Q1 test data"
   ]
  },
  {
   "cell_type": "code",
   "execution_count": 108,
   "id": "6200eb6a",
   "metadata": {},
   "outputs": [],
   "source": [
    "scaler = StandardScaler().fit(x_test)\n",
    "X_test_scaled = scaler.transform(x_test)\n",
    "y1_pred = clf1.predict(X_test_scaled)"
   ]
  },
  {
   "cell_type": "code",
   "execution_count": 109,
   "id": "25abb8cf",
   "metadata": {},
   "outputs": [
    {
     "name": "stdout",
     "output_type": "stream",
     "text": [
      "Training Score: 1.0\n",
      "Testing Score from 2020Q data: 0.5810293492131008\n"
     ]
    }
   ],
   "source": [
    "print(f'Training Score: {clf1.score(X_train_scaled, y1_train)}')\n",
    "print(f'Testing Score from 2020Q data: {clf1.score(X_test_scaled, y_test)}')"
   ]
  },
  {
   "cell_type": "code",
   "execution_count": null,
   "id": "9775f8b8",
   "metadata": {},
   "outputs": [],
   "source": [
    "#This last try didn't do well at all with the 2020Q1 data as a test."
   ]
  },
  {
   "cell_type": "code",
   "execution_count": null,
   "id": "c14ff32b",
   "metadata": {},
   "outputs": [],
   "source": []
  }
 ],
 "metadata": {
  "kernelspec": {
   "display_name": "Python 3 (ipykernel)",
   "language": "python",
   "name": "python3"
  },
  "language_info": {
   "codemirror_mode": {
    "name": "ipython",
    "version": 3
   },
   "file_extension": ".py",
   "mimetype": "text/x-python",
   "name": "python",
   "nbconvert_exporter": "python",
   "pygments_lexer": "ipython3",
   "version": "3.9.6"
  }
 },
 "nbformat": 4,
 "nbformat_minor": 5
}
